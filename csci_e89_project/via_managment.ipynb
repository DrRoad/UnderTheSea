{
 "cells": [
  {
   "cell_type": "code",
   "execution_count": 1,
   "metadata": {},
   "outputs": [],
   "source": [
    "import os\n",
    "import sys\n",
    "\n",
    "# Root directory of the project\n",
    "ROOT_DIR = os.path.abspath(\"../\")\n",
    "\n",
    "# Import via util functions\n",
    "sys.path.append(os.path.join(ROOT_DIR, \"csci_e89_project/\"))  # To find local version\n",
    "import via_util\n",
    "\n"
   ]
  },
  {
   "cell_type": "code",
   "execution_count": 2,
   "metadata": {},
   "outputs": [
    {
     "name": "stdout",
     "output_type": "stream",
     "text": [
      "/tmp/annotations.json  /tmp/new.json\r\n"
     ]
    }
   ],
   "source": [
    "!ls /tmp/*.json"
   ]
  },
  {
   "cell_type": "code",
   "execution_count": 8,
   "metadata": {},
   "outputs": [],
   "source": [
    "source_dir = '/home/saad/notebook/csci_e89/project/saad_mrcnn/csci_e89_project/images/imgnet_n02114100/images/'\n",
    "target_dir = '/home/saad/notebook/csci_e89/project/saad_mrcnn/csci_e89_project/images/imgnet_n02114100/train/'"
   ]
  },
  {
   "cell_type": "code",
   "execution_count": 10,
   "metadata": {
    "scrolled": true
   },
   "outputs": [
    {
     "name": "stdout",
     "output_type": "stream",
     "text": [
      "Images copied. Overwriting annotation file.\n"
     ]
    }
   ],
   "source": [
    "filenames = via_util.merge_images( '/tmp/annotations.json', '/tmp/new.json', source_dir, target_dir)"
   ]
  },
  {
   "cell_type": "code",
   "execution_count": null,
   "metadata": {},
   "outputs": [],
   "source": []
  }
 ],
 "metadata": {
  "kernelspec": {
   "display_name": "Python 3",
   "language": "python",
   "name": "python3"
  },
  "language_info": {
   "codemirror_mode": {
    "name": "ipython",
    "version": 3
   },
   "file_extension": ".py",
   "mimetype": "text/x-python",
   "name": "python",
   "nbconvert_exporter": "python",
   "pygments_lexer": "ipython3",
   "version": "3.6.5"
  }
 },
 "nbformat": 4,
 "nbformat_minor": 2
}
