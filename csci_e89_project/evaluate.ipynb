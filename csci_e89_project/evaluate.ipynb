{
 "cells": [
  {
   "cell_type": "code",
   "execution_count": 5,
   "metadata": {},
   "outputs": [
    {
     "name": "stdout",
     "output_type": "stream",
     "text": [
      "base dataset dir: /home/saad/notebook/csci_e89/project/saad_mrcnn/csci_e89_project/images/imgnet_n02114100\n",
      "base modesl dir: /home/saad/notebook/csci_e89/project/saad_mrcnn/csci_e89_project/models/\n"
     ]
    }
   ],
   "source": [
    "import os\n",
    "import sys\n",
    "import numpy as np\n",
    "import random\n",
    "\n",
    "# Root directory of the project\n",
    "ROOT_DIR = os.path.abspath(\"../\")\n",
    "sys.path.append(os.path.join(ROOT_DIR, \"csci_e89_project/\"))\n",
    "\n",
    "ROOT_IMAGE_DIR = os.path.abspath(\"images/\")\n",
    "\n",
    "# Path to the dataset (note this is a shared images directory)\n",
    "dataset_path = os.path.join(ROOT_IMAGE_DIR, \"imgnet_n02114100\")\n",
    "\n",
    "models_dir = os.path.join(ROOT_DIR,  \"csci_e89_project/models/\")\n",
    "\n",
    "print(\"base dataset dir:\", dataset_path)\n",
    "print(\"base modesl dir:\", models_dir)\n",
    "\n",
    "# Import Mask RCNN\n",
    "sys.path.append(ROOT_DIR)  # To find local version of the library\n",
    "from mrcnn import model as modellib, utils\n"
   ]
  },
  {
   "cell_type": "code",
   "execution_count": 6,
   "metadata": {},
   "outputs": [
    {
     "name": "stdout",
     "output_type": "stream",
     "text": [
      "Using latest weights:  /home/saad/notebook/csci_e89/project/saad_mrcnn/csci_e89_project/models/wolf20180508T1124_mask_rcnn_wolf_0075.h5\n"
     ]
    }
   ],
   "source": [
    "import det\n",
    "\n",
    "class InferenceConfig(det.DetConfig):\n",
    "    # Set batch size to 1 since we'll be running inference on\n",
    "    # one image at a time. Batch size = GPU_COUNT * IMAGES_PER_GPU\n",
    "    GPU_COUNT = 1\n",
    "    IMAGES_PER_GPU = 1\n",
    "    NUM_CLASSES = 2 # For BG + Others\n",
    "    \n",
    "inf_config = InferenceConfig()\n",
    "inf_model = modellib.MaskRCNN(mode=\"inference\", \n",
    "                              config=inf_config,\n",
    "                              model_dir=models_dir)\n",
    "\n",
    "# Use known model\n",
    "weights_path = os.path.join(models_dir, \"wolf20180508T1124_mask_rcnn_wolf_0075.h5\")\n",
    "\n",
    "print(\"Using latest weights: \", weights_path)\n",
    "\n",
    "inf_model.load_weights(weights_path, by_name=True)\n"
   ]
  },
  {
   "cell_type": "code",
   "execution_count": 7,
   "metadata": {},
   "outputs": [
    {
     "name": "stdout",
     "output_type": "stream",
     "text": [
      "Adding class   1:wolf\n",
      "Adding class   1:wolf\n"
     ]
    }
   ],
   "source": [
    "_, dataset_val = det.create_datasets(dataset_path+'/train', inf_config.CLASS_NAMES)\n",
    "dataset_val.prepare()\n"
   ]
  },
  {
   "cell_type": "code",
   "execution_count": 8,
   "metadata": {},
   "outputs": [
    {
     "name": "stdout",
     "output_type": "stream",
     "text": [
      "mAP: 0.9048\n"
     ]
    }
   ],
   "source": [
    "# Compute VOC-Style mAP @ IoU=0.5\n",
    "\n",
    "# Since we have a small dataset, run on all\n",
    "n_image_ids = len(dataset_val.image_ids)\n",
    "image_ids = np.random.choice(dataset_val.image_ids, n_image_ids)\n",
    "APs = []\n",
    "for image_id in image_ids:\n",
    "    # Load image and ground truth data\n",
    "    image, image_meta, gt_class_id, gt_bbox, gt_mask =\\\n",
    "        modellib.load_image_gt(dataset_val, inf_config,\n",
    "                               image_id, use_mini_mask=False)\n",
    "    molded_images = np.expand_dims(modellib.mold_image(image, inf_config), 0)\n",
    "    # Run object detection\n",
    "    results = inf_model.detect([image], verbose=0)\n",
    "    r = results[0]\n",
    "    # Compute AP\n",
    "    AP, precisions, recalls, overlaps =\\\n",
    "        utils.compute_ap(gt_bbox, gt_class_id, gt_mask,\n",
    "                         r[\"rois\"], r[\"class_ids\"], r[\"scores\"], r['masks'])\n",
    "    APs.append(AP)\n",
    "    \n",
    "print(\"mAP: {:.4f}\".format(np.mean(APs)))"
   ]
  },
  {
   "cell_type": "code",
   "execution_count": null,
   "metadata": {},
   "outputs": [],
   "source": []
  }
 ],
 "metadata": {
  "kernelspec": {
   "display_name": "tf_od",
   "language": "python",
   "name": "tf_od"
  },
  "language_info": {
   "codemirror_mode": {
    "name": "ipython",
    "version": 3
   },
   "file_extension": ".py",
   "mimetype": "text/x-python",
   "name": "python",
   "nbconvert_exporter": "python",
   "pygments_lexer": "ipython3",
   "version": "3.6.5"
  }
 },
 "nbformat": 4,
 "nbformat_minor": 2
}
